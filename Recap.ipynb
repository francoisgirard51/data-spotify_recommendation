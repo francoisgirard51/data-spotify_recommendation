{
 "cells": [
  {
   "cell_type": "markdown",
   "metadata": {},
   "source": [
    "# KNN Recommender "
   ]
  },
  {
   "cell_type": "markdown",
   "metadata": {},
   "source": [
    "👉 K-Nearest-Neighbors (KNN) models can be used to model and make predictions, but they can alternatively be utilized to find the closest points in a dataset.  \n",
    "\n",
    "👨🏻‍🏫 In this recap, we will use a KNN model to create a basic music recommender system."
   ]
  },
  {
   "cell_type": "code",
   "execution_count": 3,
   "metadata": {},
   "outputs": [
    {
     "data": {
      "text/html": [
       "<div>\n",
       "<style scoped>\n",
       "    .dataframe tbody tr th:only-of-type {\n",
       "        vertical-align: middle;\n",
       "    }\n",
       "\n",
       "    .dataframe tbody tr th {\n",
       "        vertical-align: top;\n",
       "    }\n",
       "\n",
       "    .dataframe thead th {\n",
       "        text-align: right;\n",
       "    }\n",
       "</style>\n",
       "<table border=\"1\" class=\"dataframe\">\n",
       "  <thead>\n",
       "    <tr style=\"text-align: right;\">\n",
       "      <th></th>\n",
       "      <th>name</th>\n",
       "      <th>artists</th>\n",
       "      <th>popularity</th>\n",
       "      <th>danceability</th>\n",
       "      <th>valence</th>\n",
       "      <th>energy</th>\n",
       "      <th>explicit</th>\n",
       "      <th>key</th>\n",
       "      <th>liveness</th>\n",
       "      <th>loudness</th>\n",
       "      <th>speechiness</th>\n",
       "      <th>tempo</th>\n",
       "    </tr>\n",
       "  </thead>\n",
       "  <tbody>\n",
       "    <tr>\n",
       "      <th>0</th>\n",
       "      <td>We're For The Dark - Remastered 2010</td>\n",
       "      <td>['Badfinger']</td>\n",
       "      <td>22</td>\n",
       "      <td>0.678</td>\n",
       "      <td>0.559</td>\n",
       "      <td>0.432</td>\n",
       "      <td>0</td>\n",
       "      <td>3</td>\n",
       "      <td>0.0727</td>\n",
       "      <td>-12.696</td>\n",
       "      <td>0.0334</td>\n",
       "      <td>117.674</td>\n",
       "    </tr>\n",
       "    <tr>\n",
       "      <th>1</th>\n",
       "      <td>Sixty Years On - Piano Demo</td>\n",
       "      <td>['Elton John']</td>\n",
       "      <td>25</td>\n",
       "      <td>0.456</td>\n",
       "      <td>0.259</td>\n",
       "      <td>0.368</td>\n",
       "      <td>0</td>\n",
       "      <td>6</td>\n",
       "      <td>0.1560</td>\n",
       "      <td>-10.692</td>\n",
       "      <td>0.0280</td>\n",
       "      <td>143.783</td>\n",
       "    </tr>\n",
       "    <tr>\n",
       "      <th>2</th>\n",
       "      <td>Got to Find Another Way</td>\n",
       "      <td>['The Guess Who']</td>\n",
       "      <td>21</td>\n",
       "      <td>0.433</td>\n",
       "      <td>0.833</td>\n",
       "      <td>0.724</td>\n",
       "      <td>0</td>\n",
       "      <td>0</td>\n",
       "      <td>0.1700</td>\n",
       "      <td>-9.803</td>\n",
       "      <td>0.0378</td>\n",
       "      <td>84.341</td>\n",
       "    </tr>\n",
       "    <tr>\n",
       "      <th>3</th>\n",
       "      <td>Feelin' Alright - Live At The Fillmore East/1970</td>\n",
       "      <td>['Joe Cocker']</td>\n",
       "      <td>22</td>\n",
       "      <td>0.436</td>\n",
       "      <td>0.870</td>\n",
       "      <td>0.914</td>\n",
       "      <td>0</td>\n",
       "      <td>5</td>\n",
       "      <td>0.8550</td>\n",
       "      <td>-6.955</td>\n",
       "      <td>0.0610</td>\n",
       "      <td>174.005</td>\n",
       "    </tr>\n",
       "    <tr>\n",
       "      <th>4</th>\n",
       "      <td>Caravan - Take 7</td>\n",
       "      <td>['Van Morrison']</td>\n",
       "      <td>23</td>\n",
       "      <td>0.669</td>\n",
       "      <td>0.564</td>\n",
       "      <td>0.412</td>\n",
       "      <td>0</td>\n",
       "      <td>7</td>\n",
       "      <td>0.4010</td>\n",
       "      <td>-13.095</td>\n",
       "      <td>0.0679</td>\n",
       "      <td>78.716</td>\n",
       "    </tr>\n",
       "  </tbody>\n",
       "</table>\n",
       "</div>"
      ],
      "text/plain": [
       "                                               name            artists  \\\n",
       "0              We're For The Dark - Remastered 2010      ['Badfinger']   \n",
       "1                       Sixty Years On - Piano Demo     ['Elton John']   \n",
       "2                           Got to Find Another Way  ['The Guess Who']   \n",
       "3  Feelin' Alright - Live At The Fillmore East/1970     ['Joe Cocker']   \n",
       "4                                  Caravan - Take 7   ['Van Morrison']   \n",
       "\n",
       "   popularity  danceability  valence  energy  explicit  key  liveness  \\\n",
       "0          22         0.678    0.559   0.432         0    3    0.0727   \n",
       "1          25         0.456    0.259   0.368         0    6    0.1560   \n",
       "2          21         0.433    0.833   0.724         0    0    0.1700   \n",
       "3          22         0.436    0.870   0.914         0    5    0.8550   \n",
       "4          23         0.669    0.564   0.412         0    7    0.4010   \n",
       "\n",
       "   loudness  speechiness    tempo  \n",
       "0   -12.696       0.0334  117.674  \n",
       "1   -10.692       0.0280  143.783  \n",
       "2    -9.803       0.0378   84.341  \n",
       "3    -6.955       0.0610  174.005  \n",
       "4   -13.095       0.0679   78.716  "
      ]
     },
     "execution_count": 3,
     "metadata": {},
     "output_type": "execute_result"
    }
   ],
   "source": [
    "import pandas as pd\n",
    "\n",
    "url = 'https://wagon-public-datasets.s3.amazonaws.com/Machine%20Learning%20Datasets/ML_spotify_data.csv'\n",
    "\n",
    "# Using pandas, load the data from the provided URL\n",
    "df = pd.read_csv(url)\n",
    "df.head()"
   ]
  },
  {
   "cell_type": "markdown",
   "metadata": {},
   "source": [
    "🎯 Let's find songs that are \"similar\" to Queen's mythical *Another One Bites the Dust*."
   ]
  },
  {
   "cell_type": "code",
   "execution_count": 4,
   "metadata": {},
   "outputs": [
    {
     "data": {
      "text/html": [
       "<div>\n",
       "<style scoped>\n",
       "    .dataframe tbody tr th:only-of-type {\n",
       "        vertical-align: middle;\n",
       "    }\n",
       "\n",
       "    .dataframe tbody tr th {\n",
       "        vertical-align: top;\n",
       "    }\n",
       "\n",
       "    .dataframe thead th {\n",
       "        text-align: right;\n",
       "    }\n",
       "</style>\n",
       "<table border=\"1\" class=\"dataframe\">\n",
       "  <thead>\n",
       "    <tr style=\"text-align: right;\">\n",
       "      <th></th>\n",
       "      <th>name</th>\n",
       "      <th>artists</th>\n",
       "      <th>popularity</th>\n",
       "      <th>danceability</th>\n",
       "      <th>valence</th>\n",
       "      <th>energy</th>\n",
       "      <th>explicit</th>\n",
       "      <th>key</th>\n",
       "      <th>liveness</th>\n",
       "      <th>loudness</th>\n",
       "      <th>speechiness</th>\n",
       "      <th>tempo</th>\n",
       "    </tr>\n",
       "  </thead>\n",
       "  <tbody>\n",
       "    <tr>\n",
       "      <th>4295</th>\n",
       "      <td>Another One Bites The Dust - Live at Wembley '86</td>\n",
       "      <td>['Queen']</td>\n",
       "      <td>29</td>\n",
       "      <td>0.534</td>\n",
       "      <td>0.114</td>\n",
       "      <td>0.984</td>\n",
       "      <td>0</td>\n",
       "      <td>4</td>\n",
       "      <td>0.982</td>\n",
       "      <td>-5.058</td>\n",
       "      <td>0.297</td>\n",
       "      <td>115.991</td>\n",
       "    </tr>\n",
       "  </tbody>\n",
       "</table>\n",
       "</div>"
      ],
      "text/plain": [
       "                                                  name    artists  popularity  \\\n",
       "4295  Another One Bites The Dust - Live at Wembley '86  ['Queen']          29   \n",
       "\n",
       "      danceability  valence  energy  explicit  key  liveness  loudness  \\\n",
       "4295         0.534    0.114   0.984         0    4     0.982    -5.058   \n",
       "\n",
       "      speechiness    tempo  \n",
       "4295        0.297  115.991  "
      ]
     },
     "execution_count": 4,
     "metadata": {},
     "output_type": "execute_result"
    }
   ],
   "source": [
    "queen_song = df.iloc[4295:4296] # Another One Bites the Dust - Queen\n",
    "\n",
    "queen_song"
   ]
  },
  {
   "cell_type": "markdown",
   "metadata": {},
   "source": [
    "## 1. Calculating the distances"
   ]
  },
  {
   "cell_type": "markdown",
   "metadata": {},
   "source": [
    "👇 First, train the KNN to have it learn the distances between each observation of the dataset.  \n",
    "Since we are only concerned with the similarity of features between the songs, it doesn't matter which target the model is fitted on."
   ]
  },
  {
   "cell_type": "code",
   "execution_count": 5,
   "metadata": {
    "tags": [
     "challengify"
    ]
   },
   "outputs": [
    {
     "data": {
      "text/html": [
       "<style>#sk-container-id-1 {color: black;}#sk-container-id-1 pre{padding: 0;}#sk-container-id-1 div.sk-toggleable {background-color: white;}#sk-container-id-1 label.sk-toggleable__label {cursor: pointer;display: block;width: 100%;margin-bottom: 0;padding: 0.3em;box-sizing: border-box;text-align: center;}#sk-container-id-1 label.sk-toggleable__label-arrow:before {content: \"▸\";float: left;margin-right: 0.25em;color: #696969;}#sk-container-id-1 label.sk-toggleable__label-arrow:hover:before {color: black;}#sk-container-id-1 div.sk-estimator:hover label.sk-toggleable__label-arrow:before {color: black;}#sk-container-id-1 div.sk-toggleable__content {max-height: 0;max-width: 0;overflow: hidden;text-align: left;background-color: #f0f8ff;}#sk-container-id-1 div.sk-toggleable__content pre {margin: 0.2em;color: black;border-radius: 0.25em;background-color: #f0f8ff;}#sk-container-id-1 input.sk-toggleable__control:checked~div.sk-toggleable__content {max-height: 200px;max-width: 100%;overflow: auto;}#sk-container-id-1 input.sk-toggleable__control:checked~label.sk-toggleable__label-arrow:before {content: \"▾\";}#sk-container-id-1 div.sk-estimator input.sk-toggleable__control:checked~label.sk-toggleable__label {background-color: #d4ebff;}#sk-container-id-1 div.sk-label input.sk-toggleable__control:checked~label.sk-toggleable__label {background-color: #d4ebff;}#sk-container-id-1 input.sk-hidden--visually {border: 0;clip: rect(1px 1px 1px 1px);clip: rect(1px, 1px, 1px, 1px);height: 1px;margin: -1px;overflow: hidden;padding: 0;position: absolute;width: 1px;}#sk-container-id-1 div.sk-estimator {font-family: monospace;background-color: #f0f8ff;border: 1px dotted black;border-radius: 0.25em;box-sizing: border-box;margin-bottom: 0.5em;}#sk-container-id-1 div.sk-estimator:hover {background-color: #d4ebff;}#sk-container-id-1 div.sk-parallel-item::after {content: \"\";width: 100%;border-bottom: 1px solid gray;flex-grow: 1;}#sk-container-id-1 div.sk-label:hover label.sk-toggleable__label {background-color: #d4ebff;}#sk-container-id-1 div.sk-serial::before {content: \"\";position: absolute;border-left: 1px solid gray;box-sizing: border-box;top: 0;bottom: 0;left: 50%;z-index: 0;}#sk-container-id-1 div.sk-serial {display: flex;flex-direction: column;align-items: center;background-color: white;padding-right: 0.2em;padding-left: 0.2em;position: relative;}#sk-container-id-1 div.sk-item {position: relative;z-index: 1;}#sk-container-id-1 div.sk-parallel {display: flex;align-items: stretch;justify-content: center;background-color: white;position: relative;}#sk-container-id-1 div.sk-item::before, #sk-container-id-1 div.sk-parallel-item::before {content: \"\";position: absolute;border-left: 1px solid gray;box-sizing: border-box;top: 0;bottom: 0;left: 50%;z-index: -1;}#sk-container-id-1 div.sk-parallel-item {display: flex;flex-direction: column;z-index: 1;position: relative;background-color: white;}#sk-container-id-1 div.sk-parallel-item:first-child::after {align-self: flex-end;width: 50%;}#sk-container-id-1 div.sk-parallel-item:last-child::after {align-self: flex-start;width: 50%;}#sk-container-id-1 div.sk-parallel-item:only-child::after {width: 0;}#sk-container-id-1 div.sk-dashed-wrapped {border: 1px dashed gray;margin: 0 0.4em 0.5em 0.4em;box-sizing: border-box;padding-bottom: 0.4em;background-color: white;}#sk-container-id-1 div.sk-label label {font-family: monospace;font-weight: bold;display: inline-block;line-height: 1.2em;}#sk-container-id-1 div.sk-label-container {text-align: center;}#sk-container-id-1 div.sk-container {/* jupyter's `normalize.less` sets `[hidden] { display: none; }` but bootstrap.min.css set `[hidden] { display: none !important; }` so we also need the `!important` here to be able to override the default hidden behavior on the sphinx rendered scikit-learn.org. See: https://github.com/scikit-learn/scikit-learn/issues/21755 */display: inline-block !important;position: relative;}#sk-container-id-1 div.sk-text-repr-fallback {display: none;}</style><div id=\"sk-container-id-1\" class=\"sk-top-container\"><div class=\"sk-text-repr-fallback\"><pre>NearestNeighbors()</pre><b>In a Jupyter environment, please rerun this cell to show the HTML representation or trust the notebook. <br />On GitHub, the HTML representation is unable to render, please try loading this page with nbviewer.org.</b></div><div class=\"sk-container\" hidden><div class=\"sk-item\"><div class=\"sk-estimator sk-toggleable\"><input class=\"sk-toggleable__control sk-hidden--visually\" id=\"sk-estimator-id-1\" type=\"checkbox\" checked><label for=\"sk-estimator-id-1\" class=\"sk-toggleable__label sk-toggleable__label-arrow\">NearestNeighbors</label><div class=\"sk-toggleable__content\"><pre>NearestNeighbors()</pre></div></div></div></div></div>"
      ],
      "text/plain": [
       "NearestNeighbors()"
      ]
     },
     "execution_count": 5,
     "metadata": {},
     "output_type": "execute_result"
    }
   ],
   "source": [
    "from sklearn.neighbors import NearestNeighbors\n",
    "\n",
    "# sort features\n",
    "features = ['danceability', 'valence', 'energy', 'explicit', 'key', 'liveness', 'loudness', 'speechiness', 'tempo']\n",
    "\n",
    "# extract features\n",
    "X = df[features]\n",
    "\n",
    "# create KNN\n",
    "knn = NearestNeighbors()\n",
    "\n",
    "# train with data\n",
    "knn.fit(X)"
   ]
  },
  {
   "cell_type": "markdown",
   "metadata": {},
   "source": [
    "Check out the [documentation](https://scikit-learn.org/stable/modules/generated/sklearn.neighbors.KNeighborsRegressor.html#sklearn.neighbors.KNeighborsRegressor.kneighbors)"
   ]
  },
  {
   "cell_type": "markdown",
   "metadata": {},
   "source": [
    "## 2. Passing the new point"
   ]
  },
  {
   "cell_type": "markdown",
   "metadata": {},
   "source": [
    "👇 You can now pass a new point to the KNN model and find its closest point."
   ]
  },
  {
   "cell_type": "code",
   "execution_count": 6,
   "metadata": {},
   "outputs": [
    {
     "data": {
      "text/html": [
       "<div>\n",
       "<style scoped>\n",
       "    .dataframe tbody tr th:only-of-type {\n",
       "        vertical-align: middle;\n",
       "    }\n",
       "\n",
       "    .dataframe tbody tr th {\n",
       "        vertical-align: top;\n",
       "    }\n",
       "\n",
       "    .dataframe thead th {\n",
       "        text-align: right;\n",
       "    }\n",
       "</style>\n",
       "<table border=\"1\" class=\"dataframe\">\n",
       "  <thead>\n",
       "    <tr style=\"text-align: right;\">\n",
       "      <th></th>\n",
       "      <th>name</th>\n",
       "      <th>artists</th>\n",
       "      <th>popularity</th>\n",
       "      <th>danceability</th>\n",
       "      <th>valence</th>\n",
       "      <th>energy</th>\n",
       "      <th>explicit</th>\n",
       "      <th>key</th>\n",
       "      <th>liveness</th>\n",
       "      <th>loudness</th>\n",
       "      <th>speechiness</th>\n",
       "      <th>tempo</th>\n",
       "    </tr>\n",
       "  </thead>\n",
       "  <tbody>\n",
       "    <tr>\n",
       "      <th>4295</th>\n",
       "      <td>Another One Bites The Dust - Live at Wembley '86</td>\n",
       "      <td>['Queen']</td>\n",
       "      <td>29</td>\n",
       "      <td>0.534</td>\n",
       "      <td>0.114</td>\n",
       "      <td>0.984</td>\n",
       "      <td>0</td>\n",
       "      <td>4</td>\n",
       "      <td>0.982</td>\n",
       "      <td>-5.058</td>\n",
       "      <td>0.297</td>\n",
       "      <td>115.991</td>\n",
       "    </tr>\n",
       "  </tbody>\n",
       "</table>\n",
       "</div>"
      ],
      "text/plain": [
       "                                                  name    artists  popularity  \\\n",
       "4295  Another One Bites The Dust - Live at Wembley '86  ['Queen']          29   \n",
       "\n",
       "      danceability  valence  energy  explicit  key  liveness  loudness  \\\n",
       "4295         0.534    0.114   0.984         0    4     0.982    -5.058   \n",
       "\n",
       "      speechiness    tempo  \n",
       "4295        0.297  115.991  "
      ]
     },
     "execution_count": 6,
     "metadata": {},
     "output_type": "execute_result"
    }
   ],
   "source": [
    "queen_song"
   ]
  },
  {
   "cell_type": "code",
   "execution_count": 7,
   "metadata": {
    "tags": [
     "challengify"
    ]
   },
   "outputs": [
    {
     "data": {
      "text/html": [
       "<div>\n",
       "<style scoped>\n",
       "    .dataframe tbody tr th:only-of-type {\n",
       "        vertical-align: middle;\n",
       "    }\n",
       "\n",
       "    .dataframe tbody tr th {\n",
       "        vertical-align: top;\n",
       "    }\n",
       "\n",
       "    .dataframe thead th {\n",
       "        text-align: right;\n",
       "    }\n",
       "</style>\n",
       "<table border=\"1\" class=\"dataframe\">\n",
       "  <thead>\n",
       "    <tr style=\"text-align: right;\">\n",
       "      <th></th>\n",
       "      <th>name</th>\n",
       "      <th>artists</th>\n",
       "      <th>popularity</th>\n",
       "      <th>danceability</th>\n",
       "      <th>valence</th>\n",
       "      <th>energy</th>\n",
       "      <th>explicit</th>\n",
       "      <th>key</th>\n",
       "      <th>liveness</th>\n",
       "      <th>loudness</th>\n",
       "      <th>speechiness</th>\n",
       "      <th>tempo</th>\n",
       "    </tr>\n",
       "  </thead>\n",
       "  <tbody>\n",
       "    <tr>\n",
       "      <th>4295</th>\n",
       "      <td>Another One Bites The Dust - Live at Wembley '86</td>\n",
       "      <td>['Queen']</td>\n",
       "      <td>29</td>\n",
       "      <td>0.534</td>\n",
       "      <td>0.114</td>\n",
       "      <td>0.984</td>\n",
       "      <td>0</td>\n",
       "      <td>4</td>\n",
       "      <td>0.982</td>\n",
       "      <td>-5.058</td>\n",
       "      <td>0.2970</td>\n",
       "      <td>115.991</td>\n",
       "    </tr>\n",
       "    <tr>\n",
       "      <th>8633</th>\n",
       "      <td>Horsey</td>\n",
       "      <td>['Macross 82-99']</td>\n",
       "      <td>50</td>\n",
       "      <td>0.484</td>\n",
       "      <td>0.388</td>\n",
       "      <td>0.829</td>\n",
       "      <td>0</td>\n",
       "      <td>4</td>\n",
       "      <td>0.548</td>\n",
       "      <td>-5.434</td>\n",
       "      <td>0.0996</td>\n",
       "      <td>116.996</td>\n",
       "    </tr>\n",
       "    <tr>\n",
       "      <th>9097</th>\n",
       "      <td>Tony Montana</td>\n",
       "      <td>['Agust D', 'Yankie']</td>\n",
       "      <td>60</td>\n",
       "      <td>0.609</td>\n",
       "      <td>0.272</td>\n",
       "      <td>0.776</td>\n",
       "      <td>0</td>\n",
       "      <td>4</td>\n",
       "      <td>0.105</td>\n",
       "      <td>-5.837</td>\n",
       "      <td>0.0590</td>\n",
       "      <td>116.010</td>\n",
       "    </tr>\n",
       "    <tr>\n",
       "      <th>599</th>\n",
       "      <td>Tonight</td>\n",
       "      <td>['Raspberries']</td>\n",
       "      <td>24</td>\n",
       "      <td>0.261</td>\n",
       "      <td>0.442</td>\n",
       "      <td>0.897</td>\n",
       "      <td>0</td>\n",
       "      <td>4</td>\n",
       "      <td>0.174</td>\n",
       "      <td>-4.585</td>\n",
       "      <td>0.0836</td>\n",
       "      <td>114.926</td>\n",
       "    </tr>\n",
       "    <tr>\n",
       "      <th>8516</th>\n",
       "      <td>Let the Groove Get In</td>\n",
       "      <td>['Justin Timberlake']</td>\n",
       "      <td>50</td>\n",
       "      <td>0.785</td>\n",
       "      <td>0.437</td>\n",
       "      <td>0.841</td>\n",
       "      <td>0</td>\n",
       "      <td>4</td>\n",
       "      <td>0.290</td>\n",
       "      <td>-5.962</td>\n",
       "      <td>0.0640</td>\n",
       "      <td>116.921</td>\n",
       "    </tr>\n",
       "  </tbody>\n",
       "</table>\n",
       "</div>"
      ],
      "text/plain": [
       "                                                  name                artists  \\\n",
       "4295  Another One Bites The Dust - Live at Wembley '86              ['Queen']   \n",
       "8633                                            Horsey      ['Macross 82-99']   \n",
       "9097                                      Tony Montana  ['Agust D', 'Yankie']   \n",
       "599                                            Tonight        ['Raspberries']   \n",
       "8516                             Let the Groove Get In  ['Justin Timberlake']   \n",
       "\n",
       "      popularity  danceability  valence  energy  explicit  key  liveness  \\\n",
       "4295          29         0.534    0.114   0.984         0    4     0.982   \n",
       "8633          50         0.484    0.388   0.829         0    4     0.548   \n",
       "9097          60         0.609    0.272   0.776         0    4     0.105   \n",
       "599           24         0.261    0.442   0.897         0    4     0.174   \n",
       "8516          50         0.785    0.437   0.841         0    4     0.290   \n",
       "\n",
       "      loudness  speechiness    tempo  \n",
       "4295    -5.058       0.2970  115.991  \n",
       "8633    -5.434       0.0996  116.996  \n",
       "9097    -5.837       0.0590  116.010  \n",
       "599     -4.585       0.0836  114.926  \n",
       "8516    -5.962       0.0640  116.921  "
      ]
     },
     "execution_count": 7,
     "metadata": {},
     "output_type": "execute_result"
    }
   ],
   "source": [
    "queen_features = queen_song[features]\n",
    "\n",
    "distances, indices = knn.kneighbors(queen_features, n_neighbors=5)\n",
    "\n",
    "# get indices of nearest songs\n",
    "closest_songs = df.iloc[indices[0]]\n",
    "closest_songs"
   ]
  },
  {
   "cell_type": "markdown",
   "metadata": {},
   "source": [
    "## 3. Making a playlist!"
   ]
  },
  {
   "cell_type": "markdown",
   "metadata": {},
   "source": [
    "👇 Make a playlist with 10 songs based on Queen's *Another One Bites the Dust*, sorted by increasing tempo."
   ]
  },
  {
   "cell_type": "code",
   "execution_count": null,
   "metadata": {},
   "outputs": [],
   "source": [
    "queen_song"
   ]
  },
  {
   "cell_type": "code",
   "execution_count": null,
   "metadata": {
    "tags": [
     "challengify"
    ]
   },
   "outputs": [],
   "source": [
    "distances, indices = knn.kneighbors(queen_features, n_neighbors=11)\n",
    "\n",
    "# Récupérer les indices des chansons les plus proches\n",
    "closest_songs = df.iloc[indices[0]]\n",
    "\n",
    "# Trier les chansons par tempo croissant\n",
    "sorted_playlist = closest_songs.sort_values(by='tempo')\n",
    "\n",
    "# Sélectionner les 10 premières chansons (en excluant la chanson de Queen)\n",
    "playlist = sorted_playlist.iloc[1:11]\n",
    "playlist"
   ]
  },
  {
   "cell_type": "code",
   "execution_count": null,
   "metadata": {},
   "outputs": [],
   "source": []
  },
  {
   "cell_type": "code",
   "execution_count": null,
   "metadata": {},
   "outputs": [],
   "source": []
  }
 ],
 "metadata": {
  "kernelspec": {
   "display_name": "Python 3 (ipykernel)",
   "language": "python",
   "name": "python3"
  },
  "language_info": {
   "codemirror_mode": {
    "name": "ipython",
    "version": 3
   },
   "file_extension": ".py",
   "mimetype": "text/x-python",
   "name": "python",
   "nbconvert_exporter": "python",
   "pygments_lexer": "ipython3",
   "version": "3.10.6"
  },
  "toc": {
   "base_numbering": 1,
   "nav_menu": {},
   "number_sections": true,
   "sideBar": true,
   "skip_h1_title": false,
   "title_cell": "Table of Contents",
   "title_sidebar": "Contents",
   "toc_cell": false,
   "toc_position": {},
   "toc_section_display": true,
   "toc_window_display": false
  }
 },
 "nbformat": 4,
 "nbformat_minor": 4
}
